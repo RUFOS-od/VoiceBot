{
 "cells": [
  {
   "cell_type": "code",
   "execution_count": 1,
   "metadata": {},
   "outputs": [],
   "source": [
    "# telechargement Pkgs\n",
    "import spacy"
   ]
  },
  {
   "cell_type": "code",
   "execution_count": 56,
   "metadata": {},
   "outputs": [
    {
     "name": "stdout",
     "output_type": "stream",
     "text": [
      "zsh:1: no matches found: .[].[BehindSpacy.jpg]\n"
     ]
    }
   ],
   "source": [
    "!.[].[\"BehindSpacy.jpg\"]"
   ]
  },
  {
   "cell_type": "code",
   "execution_count": null,
   "metadata": {},
   "outputs": [],
   "source": []
  },
  {
   "cell_type": "code",
   "execution_count": 2,
   "metadata": {},
   "outputs": [],
   "source": [
    "# telechargeons notre model & NLP(TALN) Object\n"
   ]
  },
  {
   "cell_type": "code",
   "execution_count": 3,
   "metadata": {},
   "outputs": [],
   "source": [
    "nlp = spacy.load('fr_core_news_md')"
   ]
  },
  {
   "cell_type": "code",
   "execution_count": 4,
   "metadata": {},
   "outputs": [],
   "source": [
    "nlp = spacy.load('fr_core_news_sm')"
   ]
  },
  {
   "cell_type": "code",
   "execution_count": 5,
   "metadata": {},
   "outputs": [
    {
     "data": {
      "text/plain": [
       "['Defaults',\n",
       " '__annotations__',\n",
       " '__call__',\n",
       " '__class__',\n",
       " '__delattr__',\n",
       " '__dict__',\n",
       " '__dir__',\n",
       " '__doc__',\n",
       " '__eq__',\n",
       " '__format__',\n",
       " '__ge__',\n",
       " '__getattribute__',\n",
       " '__gt__',\n",
       " '__hash__',\n",
       " '__init__',\n",
       " '__init_subclass__',\n",
       " '__le__',\n",
       " '__lt__',\n",
       " '__module__',\n",
       " '__ne__',\n",
       " '__new__',\n",
       " '__reduce__',\n",
       " '__reduce_ex__',\n",
       " '__repr__',\n",
       " '__setattr__',\n",
       " '__sizeof__',\n",
       " '__str__',\n",
       " '__subclasshook__',\n",
       " '__weakref__',\n",
       " '_components',\n",
       " '_config',\n",
       " '_disabled',\n",
       " '_ensure_doc',\n",
       " '_ensure_doc_with_context',\n",
       " '_factory_meta',\n",
       " '_get_pipe_index',\n",
       " '_has_gpu_model',\n",
       " '_link_components',\n",
       " '_meta',\n",
       " '_multiprocessing_pipe',\n",
       " '_optimizer',\n",
       " '_path',\n",
       " '_pipe_configs',\n",
       " '_pipe_meta',\n",
       " 'add_pipe',\n",
       " 'analyze_pipes',\n",
       " 'batch_size',\n",
       " 'begin_training',\n",
       " 'component',\n",
       " 'component_names',\n",
       " 'components',\n",
       " 'config',\n",
       " 'create_optimizer',\n",
       " 'create_pipe',\n",
       " 'create_pipe_from_source',\n",
       " 'default_config',\n",
       " 'default_error_handler',\n",
       " 'disable_pipe',\n",
       " 'disable_pipes',\n",
       " 'disabled',\n",
       " 'enable_pipe',\n",
       " 'evaluate',\n",
       " 'factories',\n",
       " 'factory',\n",
       " 'factory_names',\n",
       " 'from_bytes',\n",
       " 'from_config',\n",
       " 'from_disk',\n",
       " 'get_factory_meta',\n",
       " 'get_factory_name',\n",
       " 'get_pipe',\n",
       " 'get_pipe_config',\n",
       " 'get_pipe_meta',\n",
       " 'has_factory',\n",
       " 'has_pipe',\n",
       " 'initialize',\n",
       " 'lang',\n",
       " 'make_doc',\n",
       " 'max_length',\n",
       " 'meta',\n",
       " 'path',\n",
       " 'pipe',\n",
       " 'pipe_factories',\n",
       " 'pipe_labels',\n",
       " 'pipe_names',\n",
       " 'pipeline',\n",
       " 'rehearse',\n",
       " 'remove_pipe',\n",
       " 'rename_pipe',\n",
       " 'replace_listeners',\n",
       " 'replace_pipe',\n",
       " 'resume_training',\n",
       " 'select_pipes',\n",
       " 'set_error_handler',\n",
       " 'set_factory_meta',\n",
       " 'to_bytes',\n",
       " 'to_disk',\n",
       " 'tokenizer',\n",
       " 'update',\n",
       " 'use_params',\n",
       " 'vocab']"
      ]
     },
     "execution_count": 5,
     "metadata": {},
     "output_type": "execute_result"
    }
   ],
   "source": [
    "# Method/Attr\n",
    "dir(nlp)"
   ]
  },
  {
   "cell_type": "code",
   "execution_count": 43,
   "metadata": {},
   "outputs": [],
   "source": [
    "url = \"https://www.france24.com/fr/rss\""
   ]
  },
  {
   "cell_type": "code",
   "execution_count": 44,
   "metadata": {},
   "outputs": [],
   "source": [
    "# Fetch Info du RSS\n",
    "# pip  install feedparser\n",
    "import feedparser"
   ]
  },
  {
   "cell_type": "code",
   "execution_count": 45,
   "metadata": {},
   "outputs": [],
   "source": [
    "f = feedparser.parse(url)"
   ]
  },
  {
   "cell_type": "code",
   "execution_count": 46,
   "metadata": {},
   "outputs": [
    {
     "data": {
      "text/plain": [
       "dict_keys(['bozo', 'entries', 'feed', 'headers', 'href', 'status', 'encoding', 'version', 'namespaces'])"
      ]
     },
     "execution_count": 46,
     "metadata": {},
     "output_type": "execute_result"
    }
   ],
   "source": [
    "f.keys()"
   ]
  },
  {
   "cell_type": "code",
   "execution_count": 53,
   "metadata": {},
   "outputs": [
    {
     "ename": "TypeError",
     "evalue": "'list' object is not callable",
     "output_type": "error",
     "traceback": [
      "\u001b[0;31m---------------------------------------------------------------------------\u001b[0m",
      "\u001b[0;31mTypeError\u001b[0m                                 Traceback (most recent call last)",
      "\u001b[0;32m<ipython-input-53-6adc99e098fa>\u001b[0m in \u001b[0;36m<module>\u001b[0;34m\u001b[0m\n\u001b[0;32m----> 1\u001b[0;31m \u001b[0mf\u001b[0m\u001b[0;34m.\u001b[0m\u001b[0mentries\u001b[0m\u001b[0;34m(\u001b[0m\u001b[0;34m\"title\"\u001b[0m\u001b[0;34m)\u001b[0m\u001b[0;34m\u001b[0m\u001b[0;34m\u001b[0m\u001b[0m\n\u001b[0m",
      "\u001b[0;31mTypeError\u001b[0m: 'list' object is not callable"
     ]
    }
   ],
   "source": [
    "f.entries(\"title\")"
   ]
  },
  {
   "cell_type": "code",
   "execution_count": 49,
   "metadata": {},
   "outputs": [
    {
     "data": {
      "text/plain": [
       "'\"Partygate\"\\xa0: mis en cause par le rapport Gray, Boris Johnson renouvelle ses excuses'"
      ]
     },
     "execution_count": 49,
     "metadata": {},
     "output_type": "execute_result"
    }
   ],
   "source": [
    "f.entries[0]['title']"
   ]
  },
  {
   "cell_type": "code",
   "execution_count": 50,
   "metadata": {},
   "outputs": [
    {
     "data": {
      "text/plain": [
       "'L\\'enquête administrative sur le \"partygate\" a mis en cause, mercredi, le sommet de Downing Street. Boris Johnson est à nouveau appelé à \"assumer la responsabilité\" des fêtes tenues dans la résidence du Premier ministre, en violation des confinements anti-Covid.'"
      ]
     },
     "execution_count": 50,
     "metadata": {},
     "output_type": "execute_result"
    }
   ],
   "source": [
    "f.entries[0]['description']"
   ]
  },
  {
   "cell_type": "code",
   "execution_count": 51,
   "metadata": {},
   "outputs": [
    {
     "data": {
      "text/plain": [
       "'L\\'enquête administrative sur le \"partygate\" a mis en cause, mercredi, le sommet de Downing Street. Boris Johnson est à nouveau appelé à \"assumer la responsabilité\" des fêtes tenues dans la résidence du Premier ministre, en violation des confinements anti-Covid.'"
      ]
     },
     "execution_count": 51,
     "metadata": {},
     "output_type": "execute_result"
    }
   ],
   "source": [
    "f.entries[0]['summary']"
   ]
  },
  {
   "cell_type": "code",
   "execution_count": 38,
   "metadata": {},
   "outputs": [],
   "source": [
    "ex1 = f.entries[0]['title']\n",
    "ex2 = f.entries[0]['summary']"
   ]
  },
  {
   "cell_type": "code",
   "execution_count": 14,
   "metadata": {},
   "outputs": [
    {
     "data": {
      "text/plain": [
       "\"Au moins 21 personnes –\\xa0dix-neuf\\xa0élèves et deux adultes –\\xa0ont été tuées\\xa0lors d'une fusillade, mardi, dans une école primaire à Uvalde, au Texas, rapportent les autorités locales.\\xa0Le suspect, un adolescent de 18\\xa0ans, est également décédé. Joe Biden a appelé une nouvelle fois à adopter des mesures de régulation sur les armes à\\xa0feu.\""
      ]
     },
     "execution_count": 14,
     "metadata": {},
     "output_type": "execute_result"
    }
   ],
   "source": [
    "ex2"
   ]
  },
  {
   "cell_type": "markdown",
   "metadata": {},
   "source": [
    "#### Tokenisation\n",
    " La tokenisation cherche à transformer un texte en une série de tokens individuels.\n",
    " La tokenisation du mot\n",
    " Tokenisation par phrases"
   ]
  },
  {
   "cell_type": "code",
   "execution_count": 15,
   "metadata": {},
   "outputs": [
    {
     "data": {
      "text/plain": [
       "'\"Partygate\"\\xa0: mis en cause par le rapport Gray, Boris Johnson renouvelle ses excuses'"
      ]
     },
     "execution_count": 15,
     "metadata": {},
     "output_type": "execute_result"
    }
   ],
   "source": [
    "ex1"
   ]
  },
  {
   "cell_type": "code",
   "execution_count": 41,
   "metadata": {},
   "outputs": [],
   "source": [
    "docx = nlp(ex1)"
   ]
  },
  {
   "cell_type": "code",
   "execution_count": 42,
   "metadata": {},
   "outputs": [
    {
     "data": {
      "text/plain": [
       "\"Partygate\" : mis en cause par le rapport Gray, Boris Johnson renouvelle ses excuses"
      ]
     },
     "execution_count": 42,
     "metadata": {},
     "output_type": "execute_result"
    }
   ],
   "source": [
    "docx"
   ]
  },
  {
   "cell_type": "code",
   "execution_count": 18,
   "metadata": {},
   "outputs": [
    {
     "data": {
      "text/plain": [
       "'\"Partygate\"\\xa0: mis en cause par le rapport Gray, Boris Johnson renouvelle ses excuses'"
      ]
     },
     "execution_count": 18,
     "metadata": {},
     "output_type": "execute_result"
    }
   ],
   "source": [
    "ex1"
   ]
  },
  {
   "cell_type": "code",
   "execution_count": 19,
   "metadata": {},
   "outputs": [
    {
     "name": "stdout",
     "output_type": "stream",
     "text": [
      "\"\n",
      "Partygate\n",
      "\"\n",
      " \n",
      ":\n",
      "mis\n",
      "en\n",
      "cause\n",
      "par\n",
      "le\n",
      "rapport\n",
      "Gray\n",
      ",\n",
      "Boris\n",
      "Johnson\n",
      "renouvelle\n",
      "ses\n",
      "excuses\n"
     ]
    }
   ],
   "source": [
    "#  Tokenization une phrase/\n",
    "for token in docx:\n",
    "    print(token.text)"
   ]
  },
  {
   "cell_type": "code",
   "execution_count": 20,
   "metadata": {},
   "outputs": [],
   "source": [
    "#pour mieux voir essayons avec une phrase siomple"
   ]
  },
  {
   "cell_type": "code",
   "execution_count": 21,
   "metadata": {},
   "outputs": [],
   "source": [
    "ex3 = \"J'ai l'IA énormement\""
   ]
  },
  {
   "cell_type": "code",
   "execution_count": 22,
   "metadata": {},
   "outputs": [],
   "source": [
    "docx3 = nlp(ex3)"
   ]
  },
  {
   "cell_type": "code",
   "execution_count": 23,
   "metadata": {},
   "outputs": [
    {
     "data": {
      "text/plain": [
       "J'ai l'IA énormement"
      ]
     },
     "execution_count": 23,
     "metadata": {},
     "output_type": "execute_result"
    }
   ],
   "source": [
    "docx3"
   ]
  },
  {
   "cell_type": "code",
   "execution_count": 24,
   "metadata": {},
   "outputs": [
    {
     "name": "stdout",
     "output_type": "stream",
     "text": [
      "J'\n",
      "ai\n",
      "l'\n",
      "IA\n",
      "énormement\n"
     ]
    }
   ],
   "source": [
    "for token in docx3:\n",
    "    print(token.text)"
   ]
  },
  {
   "cell_type": "code",
   "execution_count": 25,
   "metadata": {},
   "outputs": [
    {
     "name": "stdout",
     "output_type": "stream",
     "text": [
      "('\"', '\"', False, False, True)\n",
      "('Partygate', 'Xxxxx', False, True, False)\n",
      "('\"', '\"', False, False, True)\n",
      "('\\xa0', '\\xa0', False, False, False)\n",
      "(':', ':', False, False, True)\n",
      "('mis', 'xxx', False, True, False)\n",
      "('en', 'xx', True, True, False)\n",
      "('cause', 'xxxx', False, True, False)\n",
      "('par', 'xxx', True, True, False)\n",
      "('le', 'xx', True, True, False)\n",
      "('rapport', 'xxxx', False, True, False)\n",
      "('Gray', 'Xxxx', False, True, False)\n",
      "(',', ',', False, False, True)\n",
      "('Boris', 'Xxxxx', False, True, False)\n",
      "('Johnson', 'Xxxxx', False, True, False)\n",
      "('renouvelle', 'xxxx', False, True, False)\n",
      "('ses', 'xxx', True, True, False)\n",
      "('excuses', 'xxxx', False, True, False)\n"
     ]
    }
   ],
   "source": [
    "for token in docx:\n",
    "    print((token.text,token.shape_,token.is_stop,token.is_alpha,token.is_punct))"
   ]
  },
  {
   "cell_type": "markdown",
   "metadata": {},
   "source": [
    "### Tokenisation par phrases"
   ]
  },
  {
   "cell_type": "code",
   "execution_count": 26,
   "metadata": {},
   "outputs": [],
   "source": [
    "import speech_recognition as sr\n"
   ]
  },
  {
   "cell_type": "code",
   "execution_count": 27,
   "metadata": {},
   "outputs": [
    {
     "name": "stdout",
     "output_type": "stream",
     "text": [
      "Requirement already satisfied: text2datetime in /opt/anaconda3/lib/python3.8/site-packages (1.0.1)\n",
      "Requirement already satisfied: python-dateutil in /opt/anaconda3/lib/python3.8/site-packages (from text2datetime) (2.8.1)\n",
      "Requirement already satisfied: six>=1.5 in /opt/anaconda3/lib/python3.8/site-packages (from python-dateutil->text2datetime) (1.15.0)\n",
      "\u001b[33mWARNING: You are using pip version 22.0.4; however, version 22.1.1 is available.\n",
      "You should consider upgrading via the '/opt/anaconda3/bin/python -m pip install --upgrade pip' command.\u001b[0m\u001b[33m\n",
      "\u001b[0mNote: you may need to restart the kernel to use updated packages.\n"
     ]
    }
   ],
   "source": [
    "pip install text2datetime"
   ]
  },
  {
   "cell_type": "code",
   "execution_count": 28,
   "metadata": {},
   "outputs": [
    {
     "name": "stdout",
     "output_type": "stream",
     "text": [
      "Requirement already satisfied: pyttsx3 in /opt/anaconda3/lib/python3.8/site-packages (2.90)\n",
      "Requirement already satisfied: pyobjc>=2.4 in /opt/anaconda3/lib/python3.8/site-packages (from pyttsx3) (8.5)\n",
      "Requirement already satisfied: pyobjc-framework-FileProviderUI==8.5 in /opt/anaconda3/lib/python3.8/site-packages (from pyobjc>=2.4->pyttsx3) (8.5)\n",
      "Requirement already satisfied: pyobjc-framework-ModelIO==8.5 in /opt/anaconda3/lib/python3.8/site-packages (from pyobjc>=2.4->pyttsx3) (8.5)\n",
      "Requirement already satisfied: pyobjc-framework-AdSupport==8.5 in /opt/anaconda3/lib/python3.8/site-packages (from pyobjc>=2.4->pyttsx3) (8.5)\n",
      "Requirement already satisfied: pyobjc-framework-GameController==8.5 in /opt/anaconda3/lib/python3.8/site-packages (from pyobjc>=2.4->pyttsx3) (8.5)\n",
      "Requirement already satisfied: pyobjc-framework-AudioVideoBridging==8.5 in /opt/anaconda3/lib/python3.8/site-packages (from pyobjc>=2.4->pyttsx3) (8.5)\n",
      "Requirement already satisfied: pyobjc-framework-OSLog==8.5 in /opt/anaconda3/lib/python3.8/site-packages (from pyobjc>=2.4->pyttsx3) (8.5)\n",
      "Requirement already satisfied: pyobjc-framework-SecurityInterface==8.5 in /opt/anaconda3/lib/python3.8/site-packages (from pyobjc>=2.4->pyttsx3) (8.5)\n",
      "Requirement already satisfied: pyobjc-framework-KernelManagement==8.5 in /opt/anaconda3/lib/python3.8/site-packages (from pyobjc>=2.4->pyttsx3) (8.5)\n",
      "Requirement already satisfied: pyobjc-framework-ScriptingBridge==8.5 in /opt/anaconda3/lib/python3.8/site-packages (from pyobjc>=2.4->pyttsx3) (8.5)\n",
      "Requirement already satisfied: pyobjc-framework-iTunesLibrary==8.5 in /opt/anaconda3/lib/python3.8/site-packages (from pyobjc>=2.4->pyttsx3) (8.5)\n",
      "Requirement already satisfied: pyobjc-core==8.5 in /opt/anaconda3/lib/python3.8/site-packages (from pyobjc>=2.4->pyttsx3) (8.5)\n",
      "Requirement already satisfied: pyobjc-framework-AVKit==8.5 in /opt/anaconda3/lib/python3.8/site-packages (from pyobjc>=2.4->pyttsx3) (8.5)\n",
      "Requirement already satisfied: pyobjc-framework-AddressBook==8.5 in /opt/anaconda3/lib/python3.8/site-packages (from pyobjc>=2.4->pyttsx3) (8.5)\n",
      "Requirement already satisfied: pyobjc-framework-ClassKit==8.5 in /opt/anaconda3/lib/python3.8/site-packages (from pyobjc>=2.4->pyttsx3) (8.5)\n",
      "Requirement already satisfied: pyobjc-framework-CoreHaptics==8.5 in /opt/anaconda3/lib/python3.8/site-packages (from pyobjc>=2.4->pyttsx3) (8.5)\n",
      "Requirement already satisfied: pyobjc-framework-Social==8.5 in /opt/anaconda3/lib/python3.8/site-packages (from pyobjc>=2.4->pyttsx3) (8.5)\n",
      "Requirement already satisfied: pyobjc-framework-FSEvents==8.5 in /opt/anaconda3/lib/python3.8/site-packages (from pyobjc>=2.4->pyttsx3) (8.5)\n",
      "Requirement already satisfied: pyobjc-framework-ReplayKit==8.5 in /opt/anaconda3/lib/python3.8/site-packages (from pyobjc>=2.4->pyttsx3) (8.5)\n",
      "Requirement already satisfied: pyobjc-framework-Virtualization==8.5 in /opt/anaconda3/lib/python3.8/site-packages (from pyobjc>=2.4->pyttsx3) (8.5)\n",
      "Requirement already satisfied: pyobjc-framework-GameKit==8.5 in /opt/anaconda3/lib/python3.8/site-packages (from pyobjc>=2.4->pyttsx3) (8.5)\n",
      "Requirement already satisfied: pyobjc-framework-Vision==8.5 in /opt/anaconda3/lib/python3.8/site-packages (from pyobjc>=2.4->pyttsx3) (8.5)\n",
      "Requirement already satisfied: pyobjc-framework-MetalKit==8.5 in /opt/anaconda3/lib/python3.8/site-packages (from pyobjc>=2.4->pyttsx3) (8.5)\n",
      "Requirement already satisfied: pyobjc-framework-CoreAudio==8.5 in /opt/anaconda3/lib/python3.8/site-packages (from pyobjc>=2.4->pyttsx3) (8.5)\n",
      "Requirement already satisfied: pyobjc-framework-GameCenter==8.5 in /opt/anaconda3/lib/python3.8/site-packages (from pyobjc>=2.4->pyttsx3) (8.5)\n",
      "Requirement already satisfied: pyobjc-framework-SystemExtensions==8.5 in /opt/anaconda3/lib/python3.8/site-packages (from pyobjc>=2.4->pyttsx3) (8.5)\n",
      "Requirement already satisfied: pyobjc-framework-ScreenTime==8.5 in /opt/anaconda3/lib/python3.8/site-packages (from pyobjc>=2.4->pyttsx3) (8.5)\n",
      "Requirement already satisfied: pyobjc-framework-FinderSync==8.5 in /opt/anaconda3/lib/python3.8/site-packages (from pyobjc>=2.4->pyttsx3) (8.5)\n",
      "Requirement already satisfied: pyobjc-framework-CoreMIDI==8.5 in /opt/anaconda3/lib/python3.8/site-packages (from pyobjc>=2.4->pyttsx3) (8.5)\n",
      "Requirement already satisfied: pyobjc-framework-UserNotifications==8.5 in /opt/anaconda3/lib/python3.8/site-packages (from pyobjc>=2.4->pyttsx3) (8.5)\n",
      "Requirement already satisfied: pyobjc-framework-PreferencePanes==8.5 in /opt/anaconda3/lib/python3.8/site-packages (from pyobjc>=2.4->pyttsx3) (8.5)\n",
      "Requirement already satisfied: pyobjc-framework-Metal==8.5 in /opt/anaconda3/lib/python3.8/site-packages (from pyobjc>=2.4->pyttsx3) (8.5)\n",
      "Requirement already satisfied: pyobjc-framework-PassKit==8.5 in /opt/anaconda3/lib/python3.8/site-packages (from pyobjc>=2.4->pyttsx3) (8.5)\n",
      "Requirement already satisfied: pyobjc-framework-CoreServices==8.5 in /opt/anaconda3/lib/python3.8/site-packages (from pyobjc>=2.4->pyttsx3) (8.5)\n",
      "Requirement already satisfied: pyobjc-framework-MediaAccessibility==8.5 in /opt/anaconda3/lib/python3.8/site-packages (from pyobjc>=2.4->pyttsx3) (8.5)\n",
      "Requirement already satisfied: pyobjc-framework-Intents==8.5 in /opt/anaconda3/lib/python3.8/site-packages (from pyobjc>=2.4->pyttsx3) (8.5)\n",
      "Requirement already satisfied: pyobjc-framework-AVFoundation==8.5 in /opt/anaconda3/lib/python3.8/site-packages (from pyobjc>=2.4->pyttsx3) (8.5)\n",
      "Requirement already satisfied: pyobjc-framework-GameplayKit==8.5 in /opt/anaconda3/lib/python3.8/site-packages (from pyobjc>=2.4->pyttsx3) (8.5)\n",
      "Requirement already satisfied: pyobjc-framework-CoreText==8.5 in /opt/anaconda3/lib/python3.8/site-packages (from pyobjc>=2.4->pyttsx3) (8.5)\n",
      "Requirement already satisfied: pyobjc-framework-VideoToolbox==8.5 in /opt/anaconda3/lib/python3.8/site-packages (from pyobjc>=2.4->pyttsx3) (8.5)\n",
      "Requirement already satisfied: pyobjc-framework-PushKit==8.5 in /opt/anaconda3/lib/python3.8/site-packages (from pyobjc>=2.4->pyttsx3) (8.5)\n",
      "Requirement already satisfied: pyobjc-framework-IOSurface==8.5 in /opt/anaconda3/lib/python3.8/site-packages (from pyobjc>=2.4->pyttsx3) (8.5)\n",
      "Requirement already satisfied: pyobjc-framework-MetalPerformanceShadersGraph==8.5 in /opt/anaconda3/lib/python3.8/site-packages (from pyobjc>=2.4->pyttsx3) (8.5)\n",
      "Requirement already satisfied: pyobjc-framework-PencilKit==8.5 in /opt/anaconda3/lib/python3.8/site-packages (from pyobjc>=2.4->pyttsx3) (8.5)\n",
      "Requirement already satisfied: pyobjc-framework-Accessibility==8.5 in /opt/anaconda3/lib/python3.8/site-packages (from pyobjc>=2.4->pyttsx3) (8.5)\n",
      "Requirement already satisfied: pyobjc-framework-ExecutionPolicy==8.5 in /opt/anaconda3/lib/python3.8/site-packages (from pyobjc>=2.4->pyttsx3) (8.5)\n",
      "Requirement already satisfied: pyobjc-framework-CoreMotion==8.5 in /opt/anaconda3/lib/python3.8/site-packages (from pyobjc>=2.4->pyttsx3) (8.5)\n",
      "Requirement already satisfied: pyobjc-framework-DiscRecording==8.5 in /opt/anaconda3/lib/python3.8/site-packages (from pyobjc>=2.4->pyttsx3) (8.5)\n",
      "Requirement already satisfied: pyobjc-framework-Automator==8.5 in /opt/anaconda3/lib/python3.8/site-packages (from pyobjc>=2.4->pyttsx3) (8.5)\n",
      "Requirement already satisfied: pyobjc-framework-SafariServices==8.5 in /opt/anaconda3/lib/python3.8/site-packages (from pyobjc>=2.4->pyttsx3) (8.5)\n",
      "Requirement already satisfied: pyobjc-framework-CoreBluetooth==8.5 in /opt/anaconda3/lib/python3.8/site-packages (from pyobjc>=2.4->pyttsx3) (8.5)\n",
      "Requirement already satisfied: pyobjc-framework-BusinessChat==8.5 in /opt/anaconda3/lib/python3.8/site-packages (from pyobjc>=2.4->pyttsx3) (8.5)\n",
      "Requirement already satisfied: pyobjc-framework-Cocoa==8.5 in /opt/anaconda3/lib/python3.8/site-packages (from pyobjc>=2.4->pyttsx3) (8.5)\n",
      "Requirement already satisfied: pyobjc-framework-CallKit==8.5 in /opt/anaconda3/lib/python3.8/site-packages (from pyobjc>=2.4->pyttsx3) (8.5)\n",
      "Requirement already satisfied: pyobjc-framework-MLCompute==8.5 in /opt/anaconda3/lib/python3.8/site-packages (from pyobjc>=2.4->pyttsx3) (8.5)\n",
      "Requirement already satisfied: pyobjc-framework-MapKit==8.5 in /opt/anaconda3/lib/python3.8/site-packages (from pyobjc>=2.4->pyttsx3) (8.5)\n",
      "Requirement already satisfied: pyobjc-framework-MediaPlayer==8.5 in /opt/anaconda3/lib/python3.8/site-packages (from pyobjc>=2.4->pyttsx3) (8.5)\n",
      "Requirement already satisfied: pyobjc-framework-AppleScriptObjC==8.5 in /opt/anaconda3/lib/python3.8/site-packages (from pyobjc>=2.4->pyttsx3) (8.5)\n",
      "Requirement already satisfied: pyobjc-framework-DictionaryServices==8.5 in /opt/anaconda3/lib/python3.8/site-packages (from pyobjc>=2.4->pyttsx3) (8.5)\n",
      "Requirement already satisfied: pyobjc-framework-NetFS==8.5 in /opt/anaconda3/lib/python3.8/site-packages (from pyobjc>=2.4->pyttsx3) (8.5)\n",
      "Requirement already satisfied: pyobjc-framework-ColorSync==8.5 in /opt/anaconda3/lib/python3.8/site-packages (from pyobjc>=2.4->pyttsx3) (8.5)\n",
      "Requirement already satisfied: pyobjc-framework-InstallerPlugins==8.5 in /opt/anaconda3/lib/python3.8/site-packages (from pyobjc>=2.4->pyttsx3) (8.5)\n",
      "Requirement already satisfied: pyobjc-framework-MetalPerformanceShaders==8.5 in /opt/anaconda3/lib/python3.8/site-packages (from pyobjc>=2.4->pyttsx3) (8.5)\n",
      "Requirement already satisfied: pyobjc-framework-StoreKit==8.5 in /opt/anaconda3/lib/python3.8/site-packages (from pyobjc>=2.4->pyttsx3) (8.5)\n",
      "Requirement already satisfied: pyobjc-framework-WebKit==8.5 in /opt/anaconda3/lib/python3.8/site-packages (from pyobjc>=2.4->pyttsx3) (8.5)\n",
      "Requirement already satisfied: pyobjc-framework-ContactsUI==8.5 in /opt/anaconda3/lib/python3.8/site-packages (from pyobjc>=2.4->pyttsx3) (8.5)\n",
      "Requirement already satisfied: pyobjc-framework-DeviceCheck==8.5 in /opt/anaconda3/lib/python3.8/site-packages (from pyobjc>=2.4->pyttsx3) (8.5)\n",
      "Requirement already satisfied: pyobjc-framework-libdispatch==8.5 in /opt/anaconda3/lib/python3.8/site-packages (from pyobjc>=2.4->pyttsx3) (8.5)\n",
      "Requirement already satisfied: pyobjc-framework-Quartz==8.5 in /opt/anaconda3/lib/python3.8/site-packages (from pyobjc>=2.4->pyttsx3) (8.5)\n",
      "Requirement already satisfied: pyobjc-framework-AppTrackingTransparency==8.5 in /opt/anaconda3/lib/python3.8/site-packages (from pyobjc>=2.4->pyttsx3) (8.5)\n",
      "Requirement already satisfied: pyobjc-framework-NaturalLanguage==8.5 in /opt/anaconda3/lib/python3.8/site-packages (from pyobjc>=2.4->pyttsx3) (8.5)\n",
      "Requirement already satisfied: pyobjc-framework-QuickLookThumbnailing==8.5 in /opt/anaconda3/lib/python3.8/site-packages (from pyobjc>=2.4->pyttsx3) (8.5)\n",
      "Requirement already satisfied: pyobjc-framework-PhotosUI==8.5 in /opt/anaconda3/lib/python3.8/site-packages (from pyobjc>=2.4->pyttsx3) (8.5)\n",
      "Requirement already satisfied: pyobjc-framework-AdServices==8.5 in /opt/anaconda3/lib/python3.8/site-packages (from pyobjc>=2.4->pyttsx3) (8.5)\n",
      "Requirement already satisfied: pyobjc-framework-SyncServices==8.5 in /opt/anaconda3/lib/python3.8/site-packages (from pyobjc>=2.4->pyttsx3) (8.5)\n",
      "Requirement already satisfied: pyobjc-framework-MediaToolbox==8.5 in /opt/anaconda3/lib/python3.8/site-packages (from pyobjc>=2.4->pyttsx3) (8.5)\n",
      "Requirement already satisfied: pyobjc-framework-ServiceManagement==8.5 in /opt/anaconda3/lib/python3.8/site-packages (from pyobjc>=2.4->pyttsx3) (8.5)\n",
      "Requirement already satisfied: pyobjc-framework-AppleScriptKit==8.5 in /opt/anaconda3/lib/python3.8/site-packages (from pyobjc>=2.4->pyttsx3) (8.5)\n",
      "Requirement already satisfied: pyobjc-framework-EventKit==8.5 in /opt/anaconda3/lib/python3.8/site-packages (from pyobjc>=2.4->pyttsx3) (8.5)\n",
      "Requirement already satisfied: pyobjc-framework-CFNetwork==8.5 in /opt/anaconda3/lib/python3.8/site-packages (from pyobjc>=2.4->pyttsx3) (8.5)\n",
      "Requirement already satisfied: pyobjc-framework-SoundAnalysis==8.5 in /opt/anaconda3/lib/python3.8/site-packages (from pyobjc>=2.4->pyttsx3) (8.5)\n",
      "Requirement already satisfied: pyobjc-framework-InstantMessage==8.5 in /opt/anaconda3/lib/python3.8/site-packages (from pyobjc>=2.4->pyttsx3) (8.5)\n",
      "Requirement already satisfied: pyobjc-framework-ExceptionHandling==8.5 in /opt/anaconda3/lib/python3.8/site-packages (from pyobjc>=2.4->pyttsx3) (8.5)\n",
      "Requirement already satisfied: pyobjc-framework-LaunchServices==8.5 in /opt/anaconda3/lib/python3.8/site-packages (from pyobjc>=2.4->pyttsx3) (8.5)\n",
      "Requirement already satisfied: pyobjc-framework-ApplicationServices==8.5 in /opt/anaconda3/lib/python3.8/site-packages (from pyobjc>=2.4->pyttsx3) (8.5)\n",
      "Requirement already satisfied: pyobjc-framework-MediaLibrary==8.5 in /opt/anaconda3/lib/python3.8/site-packages (from pyobjc>=2.4->pyttsx3) (8.5)\n",
      "Requirement already satisfied: pyobjc-framework-SecurityFoundation==8.5 in /opt/anaconda3/lib/python3.8/site-packages (from pyobjc>=2.4->pyttsx3) (8.5)\n",
      "Requirement already satisfied: pyobjc-framework-Accounts==8.5 in /opt/anaconda3/lib/python3.8/site-packages (from pyobjc>=2.4->pyttsx3) (8.5)\n",
      "Requirement already satisfied: pyobjc-framework-CoreML==8.5 in /opt/anaconda3/lib/python3.8/site-packages (from pyobjc>=2.4->pyttsx3) (8.5)\n",
      "Requirement already satisfied: pyobjc-framework-DiscRecordingUI==8.5 in /opt/anaconda3/lib/python3.8/site-packages (from pyobjc>=2.4->pyttsx3) (8.5)\n",
      "Requirement already satisfied: pyobjc-framework-Network==8.5 in /opt/anaconda3/lib/python3.8/site-packages (from pyobjc>=2.4->pyttsx3) (8.5)\n",
      "Requirement already satisfied: pyobjc-framework-Collaboration==8.5 in /opt/anaconda3/lib/python3.8/site-packages (from pyobjc>=2.4->pyttsx3) (8.5)\n",
      "Requirement already satisfied: pyobjc-framework-AutomaticAssessmentConfiguration==8.5 in /opt/anaconda3/lib/python3.8/site-packages (from pyobjc>=2.4->pyttsx3) (8.5)\n",
      "Requirement already satisfied: pyobjc-framework-UniformTypeIdentifiers==8.5 in /opt/anaconda3/lib/python3.8/site-packages (from pyobjc>=2.4->pyttsx3) (8.5)\n",
      "Requirement already satisfied: pyobjc-framework-UserNotificationsUI==8.5 in /opt/anaconda3/lib/python3.8/site-packages (from pyobjc>=2.4->pyttsx3) (8.5)\n",
      "Requirement already satisfied: pyobjc-framework-DVDPlayback==8.5 in /opt/anaconda3/lib/python3.8/site-packages (from pyobjc>=2.4->pyttsx3) (8.5)\n",
      "Requirement already satisfied: pyobjc-framework-Contacts==8.5 in /opt/anaconda3/lib/python3.8/site-packages (from pyobjc>=2.4->pyttsx3) (8.5)\n",
      "Requirement already satisfied: pyobjc-framework-SceneKit==8.5 in /opt/anaconda3/lib/python3.8/site-packages (from pyobjc>=2.4->pyttsx3) (8.5)\n",
      "Requirement already satisfied: pyobjc-framework-OpenDirectory==8.5 in /opt/anaconda3/lib/python3.8/site-packages (from pyobjc>=2.4->pyttsx3) (8.5)\n",
      "Requirement already satisfied: pyobjc-framework-OSAKit==8.5 in /opt/anaconda3/lib/python3.8/site-packages (from pyobjc>=2.4->pyttsx3) (8.5)\n",
      "Requirement already satisfied: pyobjc-framework-CoreMedia==8.5 in /opt/anaconda3/lib/python3.8/site-packages (from pyobjc>=2.4->pyttsx3) (8.5)\n",
      "Requirement already satisfied: pyobjc-framework-CloudKit==8.5 in /opt/anaconda3/lib/python3.8/site-packages (from pyobjc>=2.4->pyttsx3) (8.5)\n",
      "Requirement already satisfied: pyobjc-framework-CoreLocation==8.5 in /opt/anaconda3/lib/python3.8/site-packages (from pyobjc>=2.4->pyttsx3) (8.5)\n",
      "Requirement already satisfied: pyobjc-framework-CalendarStore==8.5 in /opt/anaconda3/lib/python3.8/site-packages (from pyobjc>=2.4->pyttsx3) (8.5)\n",
      "Requirement already satisfied: pyobjc-framework-LinkPresentation==8.5 in /opt/anaconda3/lib/python3.8/site-packages (from pyobjc>=2.4->pyttsx3) (8.5)\n",
      "Requirement already satisfied: pyobjc-framework-MultipeerConnectivity==8.5 in /opt/anaconda3/lib/python3.8/site-packages (from pyobjc>=2.4->pyttsx3) (8.5)\n",
      "Requirement already satisfied: pyobjc-framework-Speech==8.5 in /opt/anaconda3/lib/python3.8/site-packages (from pyobjc>=2.4->pyttsx3) (8.5)\n",
      "Requirement already satisfied: pyobjc-framework-VideoSubscriberAccount==8.5 in /opt/anaconda3/lib/python3.8/site-packages (from pyobjc>=2.4->pyttsx3) (8.5)\n",
      "Requirement already satisfied: pyobjc-framework-IMServicePlugIn==8.5 in /opt/anaconda3/lib/python3.8/site-packages (from pyobjc>=2.4->pyttsx3) (8.5)\n",
      "Requirement already satisfied: pyobjc-framework-LatentSemanticMapping==8.5 in /opt/anaconda3/lib/python3.8/site-packages (from pyobjc>=2.4->pyttsx3) (8.5)\n",
      "Requirement already satisfied: pyobjc-framework-FileProvider==8.5 in /opt/anaconda3/lib/python3.8/site-packages (from pyobjc>=2.4->pyttsx3) (8.5)\n",
      "Requirement already satisfied: pyobjc-framework-SystemConfiguration==8.5 in /opt/anaconda3/lib/python3.8/site-packages (from pyobjc>=2.4->pyttsx3) (8.5)\n",
      "Requirement already satisfied: pyobjc-framework-NotificationCenter==8.5 in /opt/anaconda3/lib/python3.8/site-packages (from pyobjc>=2.4->pyttsx3) (8.5)\n",
      "Requirement already satisfied: pyobjc-framework-AuthenticationServices==8.5 in /opt/anaconda3/lib/python3.8/site-packages (from pyobjc>=2.4->pyttsx3) (8.5)\n",
      "Requirement already satisfied: pyobjc-framework-SearchKit==8.5 in /opt/anaconda3/lib/python3.8/site-packages (from pyobjc>=2.4->pyttsx3) (8.5)\n",
      "Requirement already satisfied: pyobjc-framework-Photos==8.5 in /opt/anaconda3/lib/python3.8/site-packages (from pyobjc>=2.4->pyttsx3) (8.5)\n",
      "Requirement already satisfied: pyobjc-framework-ImageCaptureCore==8.5 in /opt/anaconda3/lib/python3.8/site-packages (from pyobjc>=2.4->pyttsx3) (8.5)\n",
      "Requirement already satisfied: pyobjc-framework-CoreWLAN==8.5 in /opt/anaconda3/lib/python3.8/site-packages (from pyobjc>=2.4->pyttsx3) (8.5)\n",
      "Requirement already satisfied: pyobjc-framework-CoreSpotlight==8.5 in /opt/anaconda3/lib/python3.8/site-packages (from pyobjc>=2.4->pyttsx3) (8.5)\n",
      "Requirement already satisfied: pyobjc-framework-CoreMediaIO==8.5 in /opt/anaconda3/lib/python3.8/site-packages (from pyobjc>=2.4->pyttsx3) (8.5)\n",
      "Requirement already satisfied: pyobjc-framework-ScreenSaver==8.5 in /opt/anaconda3/lib/python3.8/site-packages (from pyobjc>=2.4->pyttsx3) (8.5)\n",
      "Requirement already satisfied: pyobjc-framework-Security==8.5 in /opt/anaconda3/lib/python3.8/site-packages (from pyobjc>=2.4->pyttsx3) (8.5)\n",
      "Requirement already satisfied: pyobjc-framework-LocalAuthentication==8.5 in /opt/anaconda3/lib/python3.8/site-packages (from pyobjc>=2.4->pyttsx3) (8.5)\n",
      "Requirement already satisfied: pyobjc-framework-DiskArbitration==8.5 in /opt/anaconda3/lib/python3.8/site-packages (from pyobjc>=2.4->pyttsx3) (8.5)\n",
      "Requirement already satisfied: pyobjc-framework-InputMethodKit==8.5 in /opt/anaconda3/lib/python3.8/site-packages (from pyobjc>=2.4->pyttsx3) (8.5)\n",
      "Requirement already satisfied: pyobjc-framework-NetworkExtension==8.5 in /opt/anaconda3/lib/python3.8/site-packages (from pyobjc>=2.4->pyttsx3) (8.5)\n",
      "Requirement already satisfied: pyobjc-framework-SpriteKit==8.5 in /opt/anaconda3/lib/python3.8/site-packages (from pyobjc>=2.4->pyttsx3) (8.5)\n",
      "Requirement already satisfied: pyobjc-framework-ExternalAccessory==8.5 in /opt/anaconda3/lib/python3.8/site-packages (from pyobjc>=2.4->pyttsx3) (8.5)\n",
      "Requirement already satisfied: pyobjc-framework-CoreAudioKit==8.5 in /opt/anaconda3/lib/python3.8/site-packages (from pyobjc>=2.4->pyttsx3) (8.5)\n",
      "Requirement already satisfied: pyobjc-framework-CryptoTokenKit==8.5 in /opt/anaconda3/lib/python3.8/site-packages (from pyobjc>=2.4->pyttsx3) (8.5)\n",
      "Requirement already satisfied: pyobjc-framework-CoreData==8.5 in /opt/anaconda3/lib/python3.8/site-packages (from pyobjc>=2.4->pyttsx3) (8.5)\n",
      "\u001b[33mWARNING: You are using pip version 22.0.4; however, version 22.1.1 is available.\n",
      "You should consider upgrading via the '/opt/anaconda3/bin/python -m pip install --upgrade pip' command.\u001b[0m\u001b[33m\n",
      "\u001b[0mNote: you may need to restart the kernel to use updated packages.\n"
     ]
    }
   ],
   "source": [
    "pip install pyttsx3"
   ]
  },
  {
   "cell_type": "code",
   "execution_count": 29,
   "metadata": {},
   "outputs": [
    {
     "name": "stdout",
     "output_type": "stream",
     "text": [
      "Requirement already satisfied: pywhatkit in /opt/anaconda3/lib/python3.8/site-packages (5.3)\n",
      "Requirement already satisfied: pyautogui in /opt/anaconda3/lib/python3.8/site-packages (from pywhatkit) (0.9.53)\n",
      "Requirement already satisfied: requests in /opt/anaconda3/lib/python3.8/site-packages (from pywhatkit) (2.24.0)\n",
      "Requirement already satisfied: Pillow in /opt/anaconda3/lib/python3.8/site-packages (from pywhatkit) (7.2.0)\n",
      "Requirement already satisfied: wikipedia in /opt/anaconda3/lib/python3.8/site-packages (from pywhatkit) (1.4.0)\n",
      "Requirement already satisfied: PyTweening>=1.0.1 in /opt/anaconda3/lib/python3.8/site-packages (from pyautogui->pywhatkit) (1.0.4)\n",
      "Requirement already satisfied: pymsgbox in /opt/anaconda3/lib/python3.8/site-packages (from pyautogui->pywhatkit) (1.0.9)\n",
      "Requirement already satisfied: pyobjc-core in /opt/anaconda3/lib/python3.8/site-packages (from pyautogui->pywhatkit) (8.5)\n",
      "Requirement already satisfied: pygetwindow>=0.0.5 in /opt/anaconda3/lib/python3.8/site-packages (from pyautogui->pywhatkit) (0.0.9)\n",
      "Requirement already satisfied: pyscreeze>=0.1.21 in /opt/anaconda3/lib/python3.8/site-packages (from pyautogui->pywhatkit) (0.1.28)\n",
      "Requirement already satisfied: pyobjc in /opt/anaconda3/lib/python3.8/site-packages (from pyautogui->pywhatkit) (8.5)\n",
      "Requirement already satisfied: mouseinfo in /opt/anaconda3/lib/python3.8/site-packages (from pyautogui->pywhatkit) (0.1.3)\n",
      "Requirement already satisfied: urllib3!=1.25.0,!=1.25.1,<1.26,>=1.21.1 in /opt/anaconda3/lib/python3.8/site-packages (from requests->pywhatkit) (1.25.9)\n",
      "Requirement already satisfied: idna<3,>=2.5 in /opt/anaconda3/lib/python3.8/site-packages (from requests->pywhatkit) (2.10)\n",
      "Requirement already satisfied: certifi>=2017.4.17 in /opt/anaconda3/lib/python3.8/site-packages (from requests->pywhatkit) (2020.6.20)\n",
      "Requirement already satisfied: chardet<4,>=3.0.2 in /opt/anaconda3/lib/python3.8/site-packages (from requests->pywhatkit) (3.0.4)\n",
      "Requirement already satisfied: beautifulsoup4 in /opt/anaconda3/lib/python3.8/site-packages (from wikipedia->pywhatkit) (4.9.1)\n",
      "Requirement already satisfied: pyrect in /opt/anaconda3/lib/python3.8/site-packages (from pygetwindow>=0.0.5->pyautogui->pywhatkit) (0.2.0)\n",
      "Requirement already satisfied: soupsieve>1.2 in /opt/anaconda3/lib/python3.8/site-packages (from beautifulsoup4->wikipedia->pywhatkit) (2.0.1)\n",
      "Requirement already satisfied: rubicon-objc in /opt/anaconda3/lib/python3.8/site-packages (from mouseinfo->pyautogui->pywhatkit) (0.4.2)\n",
      "Requirement already satisfied: pyperclip in /opt/anaconda3/lib/python3.8/site-packages (from mouseinfo->pyautogui->pywhatkit) (1.8.2)\n",
      "Requirement already satisfied: pyobjc-framework-CoreMediaIO==8.5 in /opt/anaconda3/lib/python3.8/site-packages (from pyobjc->pyautogui->pywhatkit) (8.5)\n",
      "Requirement already satisfied: pyobjc-framework-SyncServices==8.5 in /opt/anaconda3/lib/python3.8/site-packages (from pyobjc->pyautogui->pywhatkit) (8.5)\n",
      "Requirement already satisfied: pyobjc-framework-CoreAudioKit==8.5 in /opt/anaconda3/lib/python3.8/site-packages (from pyobjc->pyautogui->pywhatkit) (8.5)\n",
      "Requirement already satisfied: pyobjc-framework-DictionaryServices==8.5 in /opt/anaconda3/lib/python3.8/site-packages (from pyobjc->pyautogui->pywhatkit) (8.5)\n",
      "Requirement already satisfied: pyobjc-framework-CoreData==8.5 in /opt/anaconda3/lib/python3.8/site-packages (from pyobjc->pyautogui->pywhatkit) (8.5)\n",
      "Requirement already satisfied: pyobjc-framework-Quartz==8.5 in /opt/anaconda3/lib/python3.8/site-packages (from pyobjc->pyautogui->pywhatkit) (8.5)\n",
      "Requirement already satisfied: pyobjc-framework-ScriptingBridge==8.5 in /opt/anaconda3/lib/python3.8/site-packages (from pyobjc->pyautogui->pywhatkit) (8.5)\n",
      "Requirement already satisfied: pyobjc-framework-FinderSync==8.5 in /opt/anaconda3/lib/python3.8/site-packages (from pyobjc->pyautogui->pywhatkit) (8.5)\n",
      "Requirement already satisfied: pyobjc-framework-MetalPerformanceShadersGraph==8.5 in /opt/anaconda3/lib/python3.8/site-packages (from pyobjc->pyautogui->pywhatkit) (8.5)\n",
      "Requirement already satisfied: pyobjc-framework-libdispatch==8.5 in /opt/anaconda3/lib/python3.8/site-packages (from pyobjc->pyautogui->pywhatkit) (8.5)\n",
      "Requirement already satisfied: pyobjc-framework-GameplayKit==8.5 in /opt/anaconda3/lib/python3.8/site-packages (from pyobjc->pyautogui->pywhatkit) (8.5)\n",
      "Requirement already satisfied: pyobjc-framework-UniformTypeIdentifiers==8.5 in /opt/anaconda3/lib/python3.8/site-packages (from pyobjc->pyautogui->pywhatkit) (8.5)\n",
      "Requirement already satisfied: pyobjc-framework-LatentSemanticMapping==8.5 in /opt/anaconda3/lib/python3.8/site-packages (from pyobjc->pyautogui->pywhatkit) (8.5)\n",
      "Requirement already satisfied: pyobjc-framework-LocalAuthentication==8.5 in /opt/anaconda3/lib/python3.8/site-packages (from pyobjc->pyautogui->pywhatkit) (8.5)\n",
      "Requirement already satisfied: pyobjc-framework-MediaAccessibility==8.5 in /opt/anaconda3/lib/python3.8/site-packages (from pyobjc->pyautogui->pywhatkit) (8.5)\n",
      "Requirement already satisfied: pyobjc-framework-ReplayKit==8.5 in /opt/anaconda3/lib/python3.8/site-packages (from pyobjc->pyautogui->pywhatkit) (8.5)\n",
      "Requirement already satisfied: pyobjc-framework-CoreMedia==8.5 in /opt/anaconda3/lib/python3.8/site-packages (from pyobjc->pyautogui->pywhatkit) (8.5)\n",
      "Requirement already satisfied: pyobjc-framework-DiscRecordingUI==8.5 in /opt/anaconda3/lib/python3.8/site-packages (from pyobjc->pyautogui->pywhatkit) (8.5)\n",
      "Requirement already satisfied: pyobjc-framework-StoreKit==8.5 in /opt/anaconda3/lib/python3.8/site-packages (from pyobjc->pyautogui->pywhatkit) (8.5)\n",
      "Requirement already satisfied: pyobjc-framework-PencilKit==8.5 in /opt/anaconda3/lib/python3.8/site-packages (from pyobjc->pyautogui->pywhatkit) (8.5)\n",
      "Requirement already satisfied: pyobjc-framework-SpriteKit==8.5 in /opt/anaconda3/lib/python3.8/site-packages (from pyobjc->pyautogui->pywhatkit) (8.5)\n",
      "Requirement already satisfied: pyobjc-framework-CoreText==8.5 in /opt/anaconda3/lib/python3.8/site-packages (from pyobjc->pyautogui->pywhatkit) (8.5)\n",
      "Requirement already satisfied: pyobjc-framework-GameKit==8.5 in /opt/anaconda3/lib/python3.8/site-packages (from pyobjc->pyautogui->pywhatkit) (8.5)\n",
      "Requirement already satisfied: pyobjc-framework-Accounts==8.5 in /opt/anaconda3/lib/python3.8/site-packages (from pyobjc->pyautogui->pywhatkit) (8.5)\n",
      "Requirement already satisfied: pyobjc-framework-CloudKit==8.5 in /opt/anaconda3/lib/python3.8/site-packages (from pyobjc->pyautogui->pywhatkit) (8.5)\n",
      "Requirement already satisfied: pyobjc-framework-CoreBluetooth==8.5 in /opt/anaconda3/lib/python3.8/site-packages (from pyobjc->pyautogui->pywhatkit) (8.5)\n",
      "Requirement already satisfied: pyobjc-framework-ServiceManagement==8.5 in /opt/anaconda3/lib/python3.8/site-packages (from pyobjc->pyautogui->pywhatkit) (8.5)\n",
      "Requirement already satisfied: pyobjc-framework-SceneKit==8.5 in /opt/anaconda3/lib/python3.8/site-packages (from pyobjc->pyautogui->pywhatkit) (8.5)\n",
      "Requirement already satisfied: pyobjc-framework-CoreMotion==8.5 in /opt/anaconda3/lib/python3.8/site-packages (from pyobjc->pyautogui->pywhatkit) (8.5)\n",
      "Requirement already satisfied: pyobjc-framework-MediaToolbox==8.5 in /opt/anaconda3/lib/python3.8/site-packages (from pyobjc->pyautogui->pywhatkit) (8.5)\n",
      "Requirement already satisfied: pyobjc-framework-AuthenticationServices==8.5 in /opt/anaconda3/lib/python3.8/site-packages (from pyobjc->pyautogui->pywhatkit) (8.5)\n",
      "Requirement already satisfied: pyobjc-framework-AppTrackingTransparency==8.5 in /opt/anaconda3/lib/python3.8/site-packages (from pyobjc->pyautogui->pywhatkit) (8.5)\n",
      "Requirement already satisfied: pyobjc-framework-AppleScriptKit==8.5 in /opt/anaconda3/lib/python3.8/site-packages (from pyobjc->pyautogui->pywhatkit) (8.5)\n",
      "Requirement already satisfied: pyobjc-framework-SecurityInterface==8.5 in /opt/anaconda3/lib/python3.8/site-packages (from pyobjc->pyautogui->pywhatkit) (8.5)\n",
      "Requirement already satisfied: pyobjc-framework-SecurityFoundation==8.5 in /opt/anaconda3/lib/python3.8/site-packages (from pyobjc->pyautogui->pywhatkit) (8.5)\n",
      "Requirement already satisfied: pyobjc-framework-VideoSubscriberAccount==8.5 in /opt/anaconda3/lib/python3.8/site-packages (from pyobjc->pyautogui->pywhatkit) (8.5)\n",
      "Requirement already satisfied: pyobjc-framework-Speech==8.5 in /opt/anaconda3/lib/python3.8/site-packages (from pyobjc->pyautogui->pywhatkit) (8.5)\n",
      "Requirement already satisfied: pyobjc-framework-SoundAnalysis==8.5 in /opt/anaconda3/lib/python3.8/site-packages (from pyobjc->pyautogui->pywhatkit) (8.5)\n",
      "Requirement already satisfied: pyobjc-framework-SystemExtensions==8.5 in /opt/anaconda3/lib/python3.8/site-packages (from pyobjc->pyautogui->pywhatkit) (8.5)\n",
      "Requirement already satisfied: pyobjc-framework-PassKit==8.5 in /opt/anaconda3/lib/python3.8/site-packages (from pyobjc->pyautogui->pywhatkit) (8.5)\n",
      "Requirement already satisfied: pyobjc-framework-CalendarStore==8.5 in /opt/anaconda3/lib/python3.8/site-packages (from pyobjc->pyautogui->pywhatkit) (8.5)\n",
      "Requirement already satisfied: pyobjc-framework-CoreHaptics==8.5 in /opt/anaconda3/lib/python3.8/site-packages (from pyobjc->pyautogui->pywhatkit) (8.5)\n",
      "Requirement already satisfied: pyobjc-framework-FileProvider==8.5 in /opt/anaconda3/lib/python3.8/site-packages (from pyobjc->pyautogui->pywhatkit) (8.5)\n",
      "Requirement already satisfied: pyobjc-framework-SafariServices==8.5 in /opt/anaconda3/lib/python3.8/site-packages (from pyobjc->pyautogui->pywhatkit) (8.5)\n",
      "Requirement already satisfied: pyobjc-framework-ApplicationServices==8.5 in /opt/anaconda3/lib/python3.8/site-packages (from pyobjc->pyautogui->pywhatkit) (8.5)\n",
      "Requirement already satisfied: pyobjc-framework-VideoToolbox==8.5 in /opt/anaconda3/lib/python3.8/site-packages (from pyobjc->pyautogui->pywhatkit) (8.5)\n",
      "Requirement already satisfied: pyobjc-framework-NotificationCenter==8.5 in /opt/anaconda3/lib/python3.8/site-packages (from pyobjc->pyautogui->pywhatkit) (8.5)\n",
      "Requirement already satisfied: pyobjc-framework-ClassKit==8.5 in /opt/anaconda3/lib/python3.8/site-packages (from pyobjc->pyautogui->pywhatkit) (8.5)\n",
      "Requirement already satisfied: pyobjc-framework-Virtualization==8.5 in /opt/anaconda3/lib/python3.8/site-packages (from pyobjc->pyautogui->pywhatkit) (8.5)\n",
      "Requirement already satisfied: pyobjc-framework-NetFS==8.5 in /opt/anaconda3/lib/python3.8/site-packages (from pyobjc->pyautogui->pywhatkit) (8.5)\n",
      "Requirement already satisfied: pyobjc-framework-MetalKit==8.5 in /opt/anaconda3/lib/python3.8/site-packages (from pyobjc->pyautogui->pywhatkit) (8.5)\n",
      "Requirement already satisfied: pyobjc-framework-OpenDirectory==8.5 in /opt/anaconda3/lib/python3.8/site-packages (from pyobjc->pyautogui->pywhatkit) (8.5)\n",
      "Requirement already satisfied: pyobjc-framework-OSAKit==8.5 in /opt/anaconda3/lib/python3.8/site-packages (from pyobjc->pyautogui->pywhatkit) (8.5)\n",
      "Requirement already satisfied: pyobjc-framework-BusinessChat==8.5 in /opt/anaconda3/lib/python3.8/site-packages (from pyobjc->pyautogui->pywhatkit) (8.5)\n",
      "Requirement already satisfied: pyobjc-framework-Photos==8.5 in /opt/anaconda3/lib/python3.8/site-packages (from pyobjc->pyautogui->pywhatkit) (8.5)\n",
      "Requirement already satisfied: pyobjc-framework-NetworkExtension==8.5 in /opt/anaconda3/lib/python3.8/site-packages (from pyobjc->pyautogui->pywhatkit) (8.5)\n",
      "Requirement already satisfied: pyobjc-framework-LaunchServices==8.5 in /opt/anaconda3/lib/python3.8/site-packages (from pyobjc->pyautogui->pywhatkit) (8.5)\n",
      "Requirement already satisfied: pyobjc-framework-AVFoundation==8.5 in /opt/anaconda3/lib/python3.8/site-packages (from pyobjc->pyautogui->pywhatkit) (8.5)\n",
      "Requirement already satisfied: pyobjc-framework-ScreenSaver==8.5 in /opt/anaconda3/lib/python3.8/site-packages (from pyobjc->pyautogui->pywhatkit) (8.5)\n",
      "Requirement already satisfied: pyobjc-framework-MediaLibrary==8.5 in /opt/anaconda3/lib/python3.8/site-packages (from pyobjc->pyautogui->pywhatkit) (8.5)\n",
      "Requirement already satisfied: pyobjc-framework-NaturalLanguage==8.5 in /opt/anaconda3/lib/python3.8/site-packages (from pyobjc->pyautogui->pywhatkit) (8.5)\n",
      "Requirement already satisfied: pyobjc-framework-IOSurface==8.5 in /opt/anaconda3/lib/python3.8/site-packages (from pyobjc->pyautogui->pywhatkit) (8.5)\n",
      "Requirement already satisfied: pyobjc-framework-AdSupport==8.5 in /opt/anaconda3/lib/python3.8/site-packages (from pyobjc->pyautogui->pywhatkit) (8.5)\n",
      "Requirement already satisfied: pyobjc-framework-DiscRecording==8.5 in /opt/anaconda3/lib/python3.8/site-packages (from pyobjc->pyautogui->pywhatkit) (8.5)\n",
      "Requirement already satisfied: pyobjc-framework-iTunesLibrary==8.5 in /opt/anaconda3/lib/python3.8/site-packages (from pyobjc->pyautogui->pywhatkit) (8.5)\n",
      "Requirement already satisfied: pyobjc-framework-CoreMIDI==8.5 in /opt/anaconda3/lib/python3.8/site-packages (from pyobjc->pyautogui->pywhatkit) (8.5)\n",
      "Requirement already satisfied: pyobjc-framework-CoreAudio==8.5 in /opt/anaconda3/lib/python3.8/site-packages (from pyobjc->pyautogui->pywhatkit) (8.5)\n",
      "Requirement already satisfied: pyobjc-framework-AudioVideoBridging==8.5 in /opt/anaconda3/lib/python3.8/site-packages (from pyobjc->pyautogui->pywhatkit) (8.5)\n",
      "Requirement already satisfied: pyobjc-framework-FileProviderUI==8.5 in /opt/anaconda3/lib/python3.8/site-packages (from pyobjc->pyautogui->pywhatkit) (8.5)\n",
      "Requirement already satisfied: pyobjc-framework-ImageCaptureCore==8.5 in /opt/anaconda3/lib/python3.8/site-packages (from pyobjc->pyautogui->pywhatkit) (8.5)\n",
      "Requirement already satisfied: pyobjc-framework-CoreLocation==8.5 in /opt/anaconda3/lib/python3.8/site-packages (from pyobjc->pyautogui->pywhatkit) (8.5)\n",
      "Requirement already satisfied: pyobjc-framework-MapKit==8.5 in /opt/anaconda3/lib/python3.8/site-packages (from pyobjc->pyautogui->pywhatkit) (8.5)\n",
      "Requirement already satisfied: pyobjc-framework-AutomaticAssessmentConfiguration==8.5 in /opt/anaconda3/lib/python3.8/site-packages (from pyobjc->pyautogui->pywhatkit) (8.5)\n",
      "Requirement already satisfied: pyobjc-framework-QuickLookThumbnailing==8.5 in /opt/anaconda3/lib/python3.8/site-packages (from pyobjc->pyautogui->pywhatkit) (8.5)\n",
      "Requirement already satisfied: pyobjc-framework-PhotosUI==8.5 in /opt/anaconda3/lib/python3.8/site-packages (from pyobjc->pyautogui->pywhatkit) (8.5)\n",
      "Requirement already satisfied: pyobjc-framework-MultipeerConnectivity==8.5 in /opt/anaconda3/lib/python3.8/site-packages (from pyobjc->pyautogui->pywhatkit) (8.5)\n",
      "Requirement already satisfied: pyobjc-framework-MediaPlayer==8.5 in /opt/anaconda3/lib/python3.8/site-packages (from pyobjc->pyautogui->pywhatkit) (8.5)\n",
      "Requirement already satisfied: pyobjc-framework-ColorSync==8.5 in /opt/anaconda3/lib/python3.8/site-packages (from pyobjc->pyautogui->pywhatkit) (8.5)\n",
      "Requirement already satisfied: pyobjc-framework-Metal==8.5 in /opt/anaconda3/lib/python3.8/site-packages (from pyobjc->pyautogui->pywhatkit) (8.5)\n",
      "Requirement already satisfied: pyobjc-framework-ExternalAccessory==8.5 in /opt/anaconda3/lib/python3.8/site-packages (from pyobjc->pyautogui->pywhatkit) (8.5)\n",
      "Requirement already satisfied: pyobjc-framework-MetalPerformanceShaders==8.5 in /opt/anaconda3/lib/python3.8/site-packages (from pyobjc->pyautogui->pywhatkit) (8.5)\n",
      "Requirement already satisfied: pyobjc-framework-AddressBook==8.5 in /opt/anaconda3/lib/python3.8/site-packages (from pyobjc->pyautogui->pywhatkit) (8.5)\n",
      "Requirement already satisfied: pyobjc-framework-UserNotificationsUI==8.5 in /opt/anaconda3/lib/python3.8/site-packages (from pyobjc->pyautogui->pywhatkit) (8.5)\n",
      "Requirement already satisfied: pyobjc-framework-Intents==8.5 in /opt/anaconda3/lib/python3.8/site-packages (from pyobjc->pyautogui->pywhatkit) (8.5)\n",
      "Requirement already satisfied: pyobjc-framework-UserNotifications==8.5 in /opt/anaconda3/lib/python3.8/site-packages (from pyobjc->pyautogui->pywhatkit) (8.5)\n",
      "Requirement already satisfied: pyobjc-framework-FSEvents==8.5 in /opt/anaconda3/lib/python3.8/site-packages (from pyobjc->pyautogui->pywhatkit) (8.5)\n",
      "Requirement already satisfied: pyobjc-framework-AdServices==8.5 in /opt/anaconda3/lib/python3.8/site-packages (from pyobjc->pyautogui->pywhatkit) (8.5)\n",
      "Requirement already satisfied: pyobjc-framework-AppleScriptObjC==8.5 in /opt/anaconda3/lib/python3.8/site-packages (from pyobjc->pyautogui->pywhatkit) (8.5)\n",
      "Requirement already satisfied: pyobjc-framework-Contacts==8.5 in /opt/anaconda3/lib/python3.8/site-packages (from pyobjc->pyautogui->pywhatkit) (8.5)\n",
      "Requirement already satisfied: pyobjc-framework-DiskArbitration==8.5 in /opt/anaconda3/lib/python3.8/site-packages (from pyobjc->pyautogui->pywhatkit) (8.5)\n",
      "Requirement already satisfied: pyobjc-framework-CoreWLAN==8.5 in /opt/anaconda3/lib/python3.8/site-packages (from pyobjc->pyautogui->pywhatkit) (8.5)\n",
      "Requirement already satisfied: pyobjc-framework-GameCenter==8.5 in /opt/anaconda3/lib/python3.8/site-packages (from pyobjc->pyautogui->pywhatkit) (8.5)\n",
      "Requirement already satisfied: pyobjc-framework-OSLog==8.5 in /opt/anaconda3/lib/python3.8/site-packages (from pyobjc->pyautogui->pywhatkit) (8.5)\n",
      "Requirement already satisfied: pyobjc-framework-DeviceCheck==8.5 in /opt/anaconda3/lib/python3.8/site-packages (from pyobjc->pyautogui->pywhatkit) (8.5)\n",
      "Requirement already satisfied: pyobjc-framework-Accessibility==8.5 in /opt/anaconda3/lib/python3.8/site-packages (from pyobjc->pyautogui->pywhatkit) (8.5)\n",
      "Requirement already satisfied: pyobjc-framework-Automator==8.5 in /opt/anaconda3/lib/python3.8/site-packages (from pyobjc->pyautogui->pywhatkit) (8.5)\n",
      "Requirement already satisfied: pyobjc-framework-InstallerPlugins==8.5 in /opt/anaconda3/lib/python3.8/site-packages (from pyobjc->pyautogui->pywhatkit) (8.5)\n",
      "Requirement already satisfied: pyobjc-framework-Collaboration==8.5 in /opt/anaconda3/lib/python3.8/site-packages (from pyobjc->pyautogui->pywhatkit) (8.5)\n",
      "Requirement already satisfied: pyobjc-framework-Security==8.5 in /opt/anaconda3/lib/python3.8/site-packages (from pyobjc->pyautogui->pywhatkit) (8.5)\n",
      "Requirement already satisfied: pyobjc-framework-CallKit==8.5 in /opt/anaconda3/lib/python3.8/site-packages (from pyobjc->pyautogui->pywhatkit) (8.5)\n",
      "Requirement already satisfied: pyobjc-framework-CoreML==8.5 in /opt/anaconda3/lib/python3.8/site-packages (from pyobjc->pyautogui->pywhatkit) (8.5)\n",
      "Requirement already satisfied: pyobjc-framework-PushKit==8.5 in /opt/anaconda3/lib/python3.8/site-packages (from pyobjc->pyautogui->pywhatkit) (8.5)\n",
      "Requirement already satisfied: pyobjc-framework-CryptoTokenKit==8.5 in /opt/anaconda3/lib/python3.8/site-packages (from pyobjc->pyautogui->pywhatkit) (8.5)\n",
      "Requirement already satisfied: pyobjc-framework-Cocoa==8.5 in /opt/anaconda3/lib/python3.8/site-packages (from pyobjc->pyautogui->pywhatkit) (8.5)\n",
      "Requirement already satisfied: pyobjc-framework-InstantMessage==8.5 in /opt/anaconda3/lib/python3.8/site-packages (from pyobjc->pyautogui->pywhatkit) (8.5)\n",
      "Requirement already satisfied: pyobjc-framework-ModelIO==8.5 in /opt/anaconda3/lib/python3.8/site-packages (from pyobjc->pyautogui->pywhatkit) (8.5)\n",
      "Requirement already satisfied: pyobjc-framework-LinkPresentation==8.5 in /opt/anaconda3/lib/python3.8/site-packages (from pyobjc->pyautogui->pywhatkit) (8.5)\n",
      "Requirement already satisfied: pyobjc-framework-ScreenTime==8.5 in /opt/anaconda3/lib/python3.8/site-packages (from pyobjc->pyautogui->pywhatkit) (8.5)\n",
      "Requirement already satisfied: pyobjc-framework-CoreServices==8.5 in /opt/anaconda3/lib/python3.8/site-packages (from pyobjc->pyautogui->pywhatkit) (8.5)\n",
      "Requirement already satisfied: pyobjc-framework-AVKit==8.5 in /opt/anaconda3/lib/python3.8/site-packages (from pyobjc->pyautogui->pywhatkit) (8.5)\n",
      "Requirement already satisfied: pyobjc-framework-GameController==8.5 in /opt/anaconda3/lib/python3.8/site-packages (from pyobjc->pyautogui->pywhatkit) (8.5)\n",
      "Requirement already satisfied: pyobjc-framework-MLCompute==8.5 in /opt/anaconda3/lib/python3.8/site-packages (from pyobjc->pyautogui->pywhatkit) (8.5)\n",
      "Requirement already satisfied: pyobjc-framework-CFNetwork==8.5 in /opt/anaconda3/lib/python3.8/site-packages (from pyobjc->pyautogui->pywhatkit) (8.5)\n",
      "Requirement already satisfied: pyobjc-framework-ContactsUI==8.5 in /opt/anaconda3/lib/python3.8/site-packages (from pyobjc->pyautogui->pywhatkit) (8.5)\n",
      "Requirement already satisfied: pyobjc-framework-SearchKit==8.5 in /opt/anaconda3/lib/python3.8/site-packages (from pyobjc->pyautogui->pywhatkit) (8.5)\n",
      "Requirement already satisfied: pyobjc-framework-Vision==8.5 in /opt/anaconda3/lib/python3.8/site-packages (from pyobjc->pyautogui->pywhatkit) (8.5)\n",
      "Requirement already satisfied: pyobjc-framework-Social==8.5 in /opt/anaconda3/lib/python3.8/site-packages (from pyobjc->pyautogui->pywhatkit) (8.5)\n",
      "Requirement already satisfied: pyobjc-framework-DVDPlayback==8.5 in /opt/anaconda3/lib/python3.8/site-packages (from pyobjc->pyautogui->pywhatkit) (8.5)\n",
      "Requirement already satisfied: pyobjc-framework-PreferencePanes==8.5 in /opt/anaconda3/lib/python3.8/site-packages (from pyobjc->pyautogui->pywhatkit) (8.5)\n",
      "Requirement already satisfied: pyobjc-framework-ExecutionPolicy==8.5 in /opt/anaconda3/lib/python3.8/site-packages (from pyobjc->pyautogui->pywhatkit) (8.5)\n",
      "Requirement already satisfied: pyobjc-framework-EventKit==8.5 in /opt/anaconda3/lib/python3.8/site-packages (from pyobjc->pyautogui->pywhatkit) (8.5)\n",
      "Requirement already satisfied: pyobjc-framework-IMServicePlugIn==8.5 in /opt/anaconda3/lib/python3.8/site-packages (from pyobjc->pyautogui->pywhatkit) (8.5)\n",
      "Requirement already satisfied: pyobjc-framework-CoreSpotlight==8.5 in /opt/anaconda3/lib/python3.8/site-packages (from pyobjc->pyautogui->pywhatkit) (8.5)\n",
      "Requirement already satisfied: pyobjc-framework-InputMethodKit==8.5 in /opt/anaconda3/lib/python3.8/site-packages (from pyobjc->pyautogui->pywhatkit) (8.5)\n",
      "Requirement already satisfied: pyobjc-framework-ExceptionHandling==8.5 in /opt/anaconda3/lib/python3.8/site-packages (from pyobjc->pyautogui->pywhatkit) (8.5)\n",
      "Requirement already satisfied: pyobjc-framework-WebKit==8.5 in /opt/anaconda3/lib/python3.8/site-packages (from pyobjc->pyautogui->pywhatkit) (8.5)\n",
      "Requirement already satisfied: pyobjc-framework-Network==8.5 in /opt/anaconda3/lib/python3.8/site-packages (from pyobjc->pyautogui->pywhatkit) (8.5)\n",
      "Requirement already satisfied: pyobjc-framework-KernelManagement==8.5 in /opt/anaconda3/lib/python3.8/site-packages (from pyobjc->pyautogui->pywhatkit) (8.5)\n",
      "Requirement already satisfied: pyobjc-framework-SystemConfiguration==8.5 in /opt/anaconda3/lib/python3.8/site-packages (from pyobjc->pyautogui->pywhatkit) (8.5)\n",
      "\u001b[33mWARNING: You are using pip version 22.0.4; however, version 22.1.1 is available.\n",
      "You should consider upgrading via the '/opt/anaconda3/bin/python -m pip install --upgrade pip' command.\u001b[0m\u001b[33m\n",
      "\u001b[0mNote: you may need to restart the kernel to use updated packages.\n"
     ]
    }
   ],
   "source": [
    "pip install pywhatkit"
   ]
  },
  {
   "cell_type": "code",
   "execution_count": 30,
   "metadata": {},
   "outputs": [],
   "source": [
    "import pyttsx3 as ttx\n"
   ]
  },
  {
   "cell_type": "code",
   "execution_count": 31,
   "metadata": {},
   "outputs": [],
   "source": [
    "\n",
    "import datetime"
   ]
  },
  {
   "cell_type": "code",
   "execution_count": 32,
   "metadata": {},
   "outputs": [],
   "source": [
    "import pywhatkit"
   ]
  },
  {
   "cell_type": "code",
   "execution_count": 33,
   "metadata": {},
   "outputs": [],
   "source": [
    "listener=sr.Recognizer()\n",
    "engine=ttx.init()\n",
    "voice=engine.getProperty('voices')\n",
    "engine.setProperty('voice','french')"
   ]
  },
  {
   "cell_type": "markdown",
   "metadata": {},
   "source": [
    "#la fonction qui permet de parler"
   ]
  },
  {
   "cell_type": "code",
   "execution_count": 34,
   "metadata": {},
   "outputs": [],
   "source": [
    "def parler(text):\n",
    "    engine.say(text)\n",
    "    engine.runAndWait()"
   ]
  },
  {
   "cell_type": "markdown",
   "metadata": {},
   "source": [
    "#la fonction qui permet d'écouter\n"
   ]
  },
  {
   "cell_type": "code",
   "execution_count": 35,
   "metadata": {},
   "outputs": [],
   "source": [
    "def ecouter():\n",
    "    try:\n",
    "        with sr.Microphone() as source: #lorsque le micro est allumer il affiche (\"parler maintenant\")\n",
    "            print(\"parlez maintenant\")\n",
    "            voix=listener.listen(source) #recuperer la voix\n",
    "            command=listener.recognize_google(voix,language='fr-FR') #reconnaitre le langage français\n",
    "            command.lower()\n",
    "  #s'il ne comprend rien alors il pass avec l'except          \n",
    "    except:\n",
    "        pass\n",
    "    return command"
   ]
  },
  {
   "cell_type": "markdown",
   "metadata": {},
   "source": [
    "#la fonction qui permet de lancer le programme tout entier"
   ]
  },
  {
   "cell_type": "code",
   "execution_count": 57,
   "metadata": {},
   "outputs": [],
   "source": [
    "def lancer_assistant():\n",
    "    command=ecouter()\n",
    "    print(command)\n",
    "    if \"chanson\" or \"Chanson\" or \"Musique\" or \"musique\" in command:\n",
    "        chanteur=command.replace('mets la chanson de','')\n",
    "        print(chanteur)\n",
    "        pywhatkit.playonyt(chanteur)\n",
    "    elif 'heure' or \"temps\" in command:\n",
    "        heure=datetime.datetime.now().strftime('%H:%M')\n",
    "        parler('il est'+heure)\n",
    "    elif 'Bonjour' or \"salut\" in command:\n",
    "        parler('bonjour,ca va?')\n",
    "    elif \"presenter\" or \"qui est tu\" in command:\n",
    "        parler(\"J'ai  été créer par le groupe 2, de la quatrième cohorte de orange digital academie\")\n",
    "    elif \"actulité\" in command:\n",
    "        parler(docx)\n",
    "    else:\n",
    "        print('je ne comprends pas')\n"
   ]
  },
  {
   "cell_type": "code",
   "execution_count": 58,
   "metadata": {},
   "outputs": [
    {
     "name": "stdout",
     "output_type": "stream",
     "text": [
      "parlez maintenant\n",
      "Bonjour\n",
      "Bonjour\n"
     ]
    }
   ],
   "source": [
    "lancer_assistant()"
   ]
  },
  {
   "cell_type": "code",
   "execution_count": null,
   "metadata": {},
   "outputs": [],
   "source": []
  }
 ],
 "metadata": {
  "kernelspec": {
   "display_name": "Python 3",
   "language": "python",
   "name": "python3"
  },
  "language_info": {
   "codemirror_mode": {
    "name": "ipython",
    "version": 3
   },
   "file_extension": ".py",
   "mimetype": "text/x-python",
   "name": "python",
   "nbconvert_exporter": "python",
   "pygments_lexer": "ipython3",
   "version": "3.8.3"
  }
 },
 "nbformat": 4,
 "nbformat_minor": 4
}
